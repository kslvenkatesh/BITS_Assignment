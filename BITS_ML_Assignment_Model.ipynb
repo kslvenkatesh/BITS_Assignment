{
 "cells": [
  {
   "cell_type": "code",
   "execution_count": 6,
   "metadata": {},
   "outputs": [],
   "source": [
    "import pandas as pd\n",
    "import numpy as np\n",
    "import matplotlib.pyplot as plt\n",
    "# To ignore warnings\n",
    "import warnings\n",
    "warnings.filterwarnings(\"ignore\")"
   ]
  },
  {
   "cell_type": "code",
   "execution_count": 2,
   "metadata": {},
   "outputs": [],
   "source": [
    "# Reading complete csv file into a panda dataframe whih is named as data \n",
    "# As observed there is no headder column in the given data, \n",
    "#so we have assumed and given a name for each column in the given data \n",
    "\n",
    "data = pd.read_csv(\"data.csv\",\n",
    "                  names = ['s1','s2','s3','s4','s5','s6','s7','s8','s9','s10','s11', \n",
    "                           's12', 's13', 's14', 's15', 's16','s17', 's18', 's19', 's20', 's21', \n",
    "                           's22', 's23', 's24', 's25', 's26','s27', 's28', 's29', 's30','s31', \n",
    "                           's32', 's33', 's34', 's35', 's36','s37', 's38', 's39', 's40','s41','s42'])\n"
   ]
  },
  {
   "cell_type": "code",
   "execution_count": null,
   "metadata": {},
   "outputs": [],
   "source": [
    "# Outlier Treatment \n",
    "# Here we are using IQR method to remove the outliers\n"
   ]
  },
  {
   "cell_type": "code",
   "execution_count": 3,
   "metadata": {},
   "outputs": [],
   "source": [
    "quartile1 = data.quantile(0.25)\n",
    "quartile3 = data.quantile(0.75)\n",
    "IQR = quartile3 - quartile1\n",
    "## lets use the above formula to remove the outliers and filter the dataset..\n",
    "outlier_removed_data = data[~((data < (quartile1 - 1.5 * IQR)) | (data > (quartile3 + 1.5 * IQR))).any(axis=1)]\n"
   ]
  },
  {
   "cell_type": "code",
   "execution_count": 4,
   "metadata": {},
   "outputs": [
    {
     "name": "stdout",
     "output_type": "stream",
     "text": [
      "Given data shape :  (20854, 42)\n",
      "outliers removed data shape :  (7381, 42)\n"
     ]
    }
   ],
   "source": [
    "print(\"Given data shape : \", data.shape)\n",
    "print(\"outliers removed data shape : \", outlier_removed_data.shape)"
   ]
  },
  {
   "cell_type": "code",
   "execution_count": null,
   "metadata": {},
   "outputs": [],
   "source": [
    "# As observed, If we tries to remove the outlier we will end up with only 35% of data which is not a good move.\n"
   ]
  },
  {
   "cell_type": "code",
   "execution_count": 8,
   "metadata": {},
   "outputs": [],
   "source": [
    "# As we know s24 is the target field, So we will seperate target field and write it in other file\n",
    "y  = data['s42']\n",
    "del data['s42']\n",
    "X=data\n",
    "# This says, we have target field in y data frame and rest of the features in X data frame.\n"
   ]
  },
  {
   "cell_type": "code",
   "execution_count": 11,
   "metadata": {},
   "outputs": [],
   "source": [
    "from sklearn.cross_validation import train_test_split\n",
    "# Split data into Test & Training set where test data is 30% & raining data is 70%\n",
    "x_train, x_test, y_train, y_test = train_test_split(X, y, test_size = 0.3, random_state = 2018)\n"
   ]
  },
  {
   "cell_type": "code",
   "execution_count": 12,
   "metadata": {},
   "outputs": [],
   "source": [
    "# Feature Scaling\n",
    "# Here we using StandardScaler which will scale all the numeric fields and ranges between -1 to +1 \n",
    "from sklearn.preprocessing import StandardScaler\n",
    "sc = StandardScaler()\n",
    "x_train = sc.fit_transform(x_train)\n",
    "x_test = sc.transform(x_test)"
   ]
  },
  {
   "cell_type": "code",
   "execution_count": 13,
   "metadata": {},
   "outputs": [
    {
     "name": "stdout",
     "output_type": "stream",
     "text": [
      "(14597, 10)\n",
      "(6257, 10)\n"
     ]
    }
   ],
   "source": [
    "# As we seen there are 41 different features, \n",
    "#here we can implement PCA to reduce the dimensionality of the test and train data \n",
    "from sklearn.decomposition import PCA\n",
    "# Make an instance of the Model \n",
    "# We can consider the variability till 95%\n",
    "pca = PCA(.95)\n",
    "\n",
    "#Fit the training data\n",
    "pca.fit(x_train)\n",
    "pca.fit(x_test)\n",
    "#transofrm the test & training data\n",
    "x_train_pca = pca.transform(x_train)\n",
    "x_test_pca = pca.transform(x_test)\n",
    "#Checking the dimensions after the PCA\n",
    "\n",
    "print(x_train_pca.shape)\n",
    "print(x_test_pca.shape)\n"
   ]
  },
  {
   "cell_type": "code",
   "execution_count": null,
   "metadata": {},
   "outputs": [],
   "source": [
    "# As we seen ther are 41 features, now after PCA we have only 10 features which are creating upto 95% of variance \n"
   ]
  },
  {
   "cell_type": "code",
   "execution_count": 14,
   "metadata": {},
   "outputs": [],
   "source": [
    "#Default Hyperparameters\n",
    "# Let's first fit a random forest model with default hyperparameters.\n",
    "# Importing random forest classifier from sklearn library\n",
    "from sklearn.ensemble import RandomForestClassifier\n",
    "\n",
    "# Running the random forest with default parameters.\n",
    "rfc = RandomForestClassifier()"
   ]
  },
  {
   "cell_type": "code",
   "execution_count": 16,
   "metadata": {},
   "outputs": [
    {
     "data": {
      "text/plain": [
       "RandomForestClassifier(bootstrap=True, class_weight=None, criterion='gini',\n",
       "            max_depth=None, max_features='auto', max_leaf_nodes=None,\n",
       "            min_impurity_decrease=0.0, min_impurity_split=None,\n",
       "            min_samples_leaf=1, min_samples_split=2,\n",
       "            min_weight_fraction_leaf=0.0, n_estimators=10, n_jobs=1,\n",
       "            oob_score=False, random_state=None, verbose=0,\n",
       "            warm_start=False)"
      ]
     },
     "execution_count": 16,
     "metadata": {},
     "output_type": "execute_result"
    }
   ],
   "source": [
    "# fit\n",
    "rfc.fit(x_train_pca,y_train)"
   ]
  },
  {
   "cell_type": "code",
   "execution_count": 17,
   "metadata": {},
   "outputs": [],
   "source": [
    "# Making predictions\n",
    "predictions = rfc.predict(x_test_pca)"
   ]
  },
  {
   "cell_type": "code",
   "execution_count": 18,
   "metadata": {},
   "outputs": [],
   "source": [
    "# Importing classification report and confusion matrix from sklearn metrics\n",
    "from sklearn.metrics import classification_report,confusion_matrix, accuracy_score\n"
   ]
  },
  {
   "cell_type": "code",
   "execution_count": 19,
   "metadata": {
    "scrolled": true
   },
   "outputs": [
    {
     "name": "stdout",
     "output_type": "stream",
     "text": [
      "             precision    recall  f1-score   support\n",
      "\n",
      "          0       0.47      0.47      0.47      2630\n",
      "          1       0.62      0.62      0.62      3627\n",
      "\n",
      "avg / total       0.56      0.56      0.56      6257\n",
      "\n"
     ]
    }
   ],
   "source": [
    "# Let's check the report of our default model\n",
    "print(classification_report(y_test,predictions))"
   ]
  },
  {
   "cell_type": "code",
   "execution_count": 20,
   "metadata": {},
   "outputs": [
    {
     "name": "stdout",
     "output_type": "stream",
     "text": [
      "[[1243 1387]\n",
      " [1375 2252]]\n"
     ]
    }
   ],
   "source": [
    "# Printing confusion matrix\n",
    "print(confusion_matrix(y_test,predictions))"
   ]
  },
  {
   "cell_type": "code",
   "execution_count": 21,
   "metadata": {},
   "outputs": [
    {
     "name": "stdout",
     "output_type": "stream",
     "text": [
      "0.5585743966757232\n"
     ]
    }
   ],
   "source": [
    "print(accuracy_score(y_test,predictions))"
   ]
  },
  {
   "cell_type": "code",
   "execution_count": null,
   "metadata": {},
   "outputs": [],
   "source": [
    "# As we seen we have 56% of accuracy\n",
    "# This accuracy we got with the default hyperparameters. \n",
    "#We will try to tweek the hyparameters and check the accuracy. \n"
   ]
  },
  {
   "cell_type": "code",
   "execution_count": null,
   "metadata": {},
   "outputs": [],
   "source": [
    "#Tuning max_depth\n",
    "#Let's try to find the optimum values for max_\n",
    "#depth and understand how the value of max_depth impacts the overall accuracy of the ensemble.\n",
    "\n"
   ]
  },
  {
   "cell_type": "code",
   "execution_count": 22,
   "metadata": {},
   "outputs": [
    {
     "data": {
      "text/plain": [
       "GridSearchCV(cv=5, error_score='raise',\n",
       "       estimator=RandomForestClassifier(bootstrap=True, class_weight=None, criterion='gini',\n",
       "            max_depth=None, max_features='auto', max_leaf_nodes=None,\n",
       "            min_impurity_decrease=0.0, min_impurity_split=None,\n",
       "            min_samples_leaf=1, min_samples_split=2,\n",
       "            min_weight_fraction_leaf=0.0, n_estimators=10, n_jobs=1,\n",
       "            oob_score=False, random_state=None, verbose=0,\n",
       "            warm_start=False),\n",
       "       fit_params=None, iid=True, n_jobs=1,\n",
       "       param_grid={'max_depth': range(2, 20, 5)}, pre_dispatch='2*n_jobs',\n",
       "       refit=True, return_train_score='warn', scoring='accuracy',\n",
       "       verbose=0)"
      ]
     },
     "execution_count": 22,
     "metadata": {},
     "output_type": "execute_result"
    }
   ],
   "source": [
    "# GridSearchCV to find optimal n_estimators\n",
    "from sklearn.model_selection import KFold\n",
    "from sklearn.model_selection import GridSearchCV\n",
    "\n",
    "\n",
    "# specify number of folds for k-fold CV\n",
    "n_folds = 5\n",
    "\n",
    "# parameters to build the model on\n",
    "parameters = {'max_depth': range(2, 20, 5)}\n",
    "\n",
    "# instantiate the model\n",
    "rf = RandomForestClassifier()\n",
    "\n",
    "\n",
    "# fit tree on training data\n",
    "rf = GridSearchCV(rf, parameters, \n",
    "                    cv=n_folds, \n",
    "                   scoring=\"accuracy\")\n",
    "rf.fit(x_train_pca, y_train)"
   ]
  },
  {
   "cell_type": "code",
   "execution_count": 23,
   "metadata": {},
   "outputs": [
    {
     "data": {
      "text/html": [
       "<div>\n",
       "<style scoped>\n",
       "    .dataframe tbody tr th:only-of-type {\n",
       "        vertical-align: middle;\n",
       "    }\n",
       "\n",
       "    .dataframe tbody tr th {\n",
       "        vertical-align: top;\n",
       "    }\n",
       "\n",
       "    .dataframe thead th {\n",
       "        text-align: right;\n",
       "    }\n",
       "</style>\n",
       "<table border=\"1\" class=\"dataframe\">\n",
       "  <thead>\n",
       "    <tr style=\"text-align: right;\">\n",
       "      <th></th>\n",
       "      <th>mean_fit_time</th>\n",
       "      <th>mean_score_time</th>\n",
       "      <th>mean_test_score</th>\n",
       "      <th>mean_train_score</th>\n",
       "      <th>param_max_depth</th>\n",
       "      <th>params</th>\n",
       "      <th>rank_test_score</th>\n",
       "      <th>split0_test_score</th>\n",
       "      <th>split0_train_score</th>\n",
       "      <th>split1_test_score</th>\n",
       "      <th>...</th>\n",
       "      <th>split2_test_score</th>\n",
       "      <th>split2_train_score</th>\n",
       "      <th>split3_test_score</th>\n",
       "      <th>split3_train_score</th>\n",
       "      <th>split4_test_score</th>\n",
       "      <th>split4_train_score</th>\n",
       "      <th>std_fit_time</th>\n",
       "      <th>std_score_time</th>\n",
       "      <th>std_test_score</th>\n",
       "      <th>std_train_score</th>\n",
       "    </tr>\n",
       "  </thead>\n",
       "  <tbody>\n",
       "    <tr>\n",
       "      <th>0</th>\n",
       "      <td>0.065109</td>\n",
       "      <td>0.002586</td>\n",
       "      <td>0.565596</td>\n",
       "      <td>0.567805</td>\n",
       "      <td>2</td>\n",
       "      <td>{'max_depth': 2}</td>\n",
       "      <td>4</td>\n",
       "      <td>0.564041</td>\n",
       "      <td>0.567183</td>\n",
       "      <td>0.565411</td>\n",
       "      <td>...</td>\n",
       "      <td>0.570058</td>\n",
       "      <td>0.570389</td>\n",
       "      <td>0.563207</td>\n",
       "      <td>0.566964</td>\n",
       "      <td>0.565262</td>\n",
       "      <td>0.568933</td>\n",
       "      <td>0.002053</td>\n",
       "      <td>0.000223</td>\n",
       "      <td>0.002374</td>\n",
       "      <td>0.001679</td>\n",
       "    </tr>\n",
       "    <tr>\n",
       "      <th>1</th>\n",
       "      <td>0.164448</td>\n",
       "      <td>0.003468</td>\n",
       "      <td>0.585531</td>\n",
       "      <td>0.638419</td>\n",
       "      <td>7</td>\n",
       "      <td>{'max_depth': 7}</td>\n",
       "      <td>1</td>\n",
       "      <td>0.586644</td>\n",
       "      <td>0.640918</td>\n",
       "      <td>0.582877</td>\n",
       "      <td>...</td>\n",
       "      <td>0.580336</td>\n",
       "      <td>0.632814</td>\n",
       "      <td>0.581706</td>\n",
       "      <td>0.637609</td>\n",
       "      <td>0.596095</td>\n",
       "      <td>0.637010</td>\n",
       "      <td>0.002846</td>\n",
       "      <td>0.000136</td>\n",
       "      <td>0.005683</td>\n",
       "      <td>0.003706</td>\n",
       "    </tr>\n",
       "    <tr>\n",
       "      <th>2</th>\n",
       "      <td>0.249980</td>\n",
       "      <td>0.004615</td>\n",
       "      <td>0.582243</td>\n",
       "      <td>0.744554</td>\n",
       "      <td>12</td>\n",
       "      <td>{'max_depth': 12}</td>\n",
       "      <td>2</td>\n",
       "      <td>0.576370</td>\n",
       "      <td>0.747195</td>\n",
       "      <td>0.579795</td>\n",
       "      <td>...</td>\n",
       "      <td>0.593354</td>\n",
       "      <td>0.741651</td>\n",
       "      <td>0.583076</td>\n",
       "      <td>0.745847</td>\n",
       "      <td>0.578623</td>\n",
       "      <td>0.745590</td>\n",
       "      <td>0.004047</td>\n",
       "      <td>0.000189</td>\n",
       "      <td>0.005962</td>\n",
       "      <td>0.002118</td>\n",
       "    </tr>\n",
       "    <tr>\n",
       "      <th>3</th>\n",
       "      <td>0.295657</td>\n",
       "      <td>0.005645</td>\n",
       "      <td>0.570665</td>\n",
       "      <td>0.814842</td>\n",
       "      <td>17</td>\n",
       "      <td>{'max_depth': 17}</td>\n",
       "      <td>3</td>\n",
       "      <td>0.567466</td>\n",
       "      <td>0.817333</td>\n",
       "      <td>0.571918</td>\n",
       "      <td>...</td>\n",
       "      <td>0.579308</td>\n",
       "      <td>0.812982</td>\n",
       "      <td>0.568345</td>\n",
       "      <td>0.817092</td>\n",
       "      <td>0.566290</td>\n",
       "      <td>0.809128</td>\n",
       "      <td>0.009730</td>\n",
       "      <td>0.000349</td>\n",
       "      <td>0.004712</td>\n",
       "      <td>0.003329</td>\n",
       "    </tr>\n",
       "  </tbody>\n",
       "</table>\n",
       "<p>4 rows × 21 columns</p>\n",
       "</div>"
      ],
      "text/plain": [
       "   mean_fit_time  mean_score_time  mean_test_score  mean_train_score  \\\n",
       "0       0.065109         0.002586         0.565596          0.567805   \n",
       "1       0.164448         0.003468         0.585531          0.638419   \n",
       "2       0.249980         0.004615         0.582243          0.744554   \n",
       "3       0.295657         0.005645         0.570665          0.814842   \n",
       "\n",
       "  param_max_depth             params  rank_test_score  split0_test_score  \\\n",
       "0               2   {'max_depth': 2}                4           0.564041   \n",
       "1               7   {'max_depth': 7}                1           0.586644   \n",
       "2              12  {'max_depth': 12}                2           0.576370   \n",
       "3              17  {'max_depth': 17}                3           0.567466   \n",
       "\n",
       "   split0_train_score  split1_test_score       ...         split2_test_score  \\\n",
       "0            0.567183           0.565411       ...                  0.570058   \n",
       "1            0.640918           0.582877       ...                  0.580336   \n",
       "2            0.747195           0.579795       ...                  0.593354   \n",
       "3            0.817333           0.571918       ...                  0.579308   \n",
       "\n",
       "   split2_train_score  split3_test_score  split3_train_score  \\\n",
       "0            0.570389           0.563207            0.566964   \n",
       "1            0.632814           0.581706            0.637609   \n",
       "2            0.741651           0.583076            0.745847   \n",
       "3            0.812982           0.568345            0.817092   \n",
       "\n",
       "   split4_test_score  split4_train_score  std_fit_time  std_score_time  \\\n",
       "0           0.565262            0.568933      0.002053        0.000223   \n",
       "1           0.596095            0.637010      0.002846        0.000136   \n",
       "2           0.578623            0.745590      0.004047        0.000189   \n",
       "3           0.566290            0.809128      0.009730        0.000349   \n",
       "\n",
       "   std_test_score  std_train_score  \n",
       "0        0.002374         0.001679  \n",
       "1        0.005683         0.003706  \n",
       "2        0.005962         0.002118  \n",
       "3        0.004712         0.003329  \n",
       "\n",
       "[4 rows x 21 columns]"
      ]
     },
     "execution_count": 23,
     "metadata": {},
     "output_type": "execute_result"
    }
   ],
   "source": [
    "# scores of GridSearch CV\n",
    "scores = rf.cv_results_\n",
    "pd.DataFrame(scores).head()"
   ]
  },
  {
   "cell_type": "code",
   "execution_count": 24,
   "metadata": {},
   "outputs": [
    {
     "data": {
      "image/png": "[encoded data removed]",
      "text/plain": [
       "<matplotlib.figure.Figure at 0x10d6dac50>"
      ]
     },
     "metadata": {},
     "output_type": "display_data"
    }
   ],
   "source": [
    "# plotting accuracies with max_depth\n",
    "plt.figure()\n",
    "plt.plot(scores[\"param_max_depth\"], \n",
    "         scores[\"mean_train_score\"], \n",
    "         label=\"training accuracy\")\n",
    "plt.plot(scores[\"param_max_depth\"], \n",
    "         scores[\"mean_test_score\"], \n",
    "         label=\"test accuracy\")\n",
    "plt.xlabel(\"max_depth\")\n",
    "plt.ylabel(\"Accuracy\")\n",
    "plt.legend()\n",
    "plt.show()\n"
   ]
  },
  {
   "cell_type": "code",
   "execution_count": null,
   "metadata": {},
   "outputs": [],
   "source": [
    "### Tuning min_samples_leaf\n",
    "#The hyperparameter min_samples_leaf is the minimum number of samples required to be at a leaf node:\n",
    "\n",
    "#If int, then consider min_samples_leaf as the minimum number.\n"
   ]
  },
  {
   "cell_type": "code",
   "execution_count": 27,
   "metadata": {},
   "outputs": [
    {
     "data": {
      "text/plain": [
       "GridSearchCV(cv=5, error_score='raise',\n",
       "       estimator=RandomForestClassifier(bootstrap=True, class_weight=None, criterion='gini',\n",
       "            max_depth=None, max_features='auto', max_leaf_nodes=None,\n",
       "            min_impurity_decrease=0.0, min_impurity_split=None,\n",
       "            min_samples_leaf=1, min_samples_split=2,\n",
       "            min_weight_fraction_leaf=0.0, n_estimators=10, n_jobs=1,\n",
       "            oob_score=False, random_state=None, verbose=0,\n",
       "            warm_start=False),\n",
       "       fit_params=None, iid=True, n_jobs=1,\n",
       "       param_grid={'min_samples_leaf': range(100, 400, 50)},\n",
       "       pre_dispatch='2*n_jobs', refit=True, return_train_score='warn',\n",
       "       scoring='accuracy', verbose=0)"
      ]
     },
     "execution_count": 27,
     "metadata": {},
     "output_type": "execute_result"
    }
   ],
   "source": [
    "# GridSearchCV to find optimal min_samples_leaf\n",
    "from sklearn.model_selection import KFold\n",
    "from sklearn.model_selection import GridSearchCV\n",
    "\n",
    "\n",
    "# specify number of folds for k-fold CV\n",
    "n_folds = 5\n",
    "\n",
    "# parameters to build the model on\n",
    "parameters = {'min_samples_leaf': range(100, 400, 50)}\n",
    "\n",
    "# instantiate the model\n",
    "rf = RandomForestClassifier()\n",
    "\n",
    "\n",
    "# fit tree on training data\n",
    "rf = GridSearchCV(rf, parameters, \n",
    "                    cv=n_folds, \n",
    "                   scoring=\"accuracy\")\n",
    "rf.fit(x_train_pca, y_train)"
   ]
  },
  {
   "cell_type": "code",
   "execution_count": 28,
   "metadata": {},
   "outputs": [
    {
     "data": {
      "text/html": [
       "<div>\n",
       "<style scoped>\n",
       "    .dataframe tbody tr th:only-of-type {\n",
       "        vertical-align: middle;\n",
       "    }\n",
       "\n",
       "    .dataframe tbody tr th {\n",
       "        vertical-align: top;\n",
       "    }\n",
       "\n",
       "    .dataframe thead th {\n",
       "        text-align: right;\n",
       "    }\n",
       "</style>\n",
       "<table border=\"1\" class=\"dataframe\">\n",
       "  <thead>\n",
       "    <tr style=\"text-align: right;\">\n",
       "      <th></th>\n",
       "      <th>mean_fit_time</th>\n",
       "      <th>mean_score_time</th>\n",
       "      <th>mean_test_score</th>\n",
       "      <th>mean_train_score</th>\n",
       "      <th>param_min_samples_leaf</th>\n",
       "      <th>params</th>\n",
       "      <th>rank_test_score</th>\n",
       "      <th>split0_test_score</th>\n",
       "      <th>split0_train_score</th>\n",
       "      <th>split1_test_score</th>\n",
       "      <th>...</th>\n",
       "      <th>split2_test_score</th>\n",
       "      <th>split2_train_score</th>\n",
       "      <th>split3_test_score</th>\n",
       "      <th>split3_train_score</th>\n",
       "      <th>split4_test_score</th>\n",
       "      <th>split4_train_score</th>\n",
       "      <th>std_fit_time</th>\n",
       "      <th>std_score_time</th>\n",
       "      <th>std_test_score</th>\n",
       "      <th>std_train_score</th>\n",
       "    </tr>\n",
       "  </thead>\n",
       "  <tbody>\n",
       "    <tr>\n",
       "      <th>0</th>\n",
       "      <td>0.168370</td>\n",
       "      <td>0.003661</td>\n",
       "      <td>0.584778</td>\n",
       "      <td>0.623227</td>\n",
       "      <td>100</td>\n",
       "      <td>{'min_samples_leaf': 100}</td>\n",
       "      <td>2</td>\n",
       "      <td>0.586986</td>\n",
       "      <td>0.623105</td>\n",
       "      <td>0.584247</td>\n",
       "      <td>...</td>\n",
       "      <td>0.590271</td>\n",
       "      <td>0.620483</td>\n",
       "      <td>0.577938</td>\n",
       "      <td>0.624251</td>\n",
       "      <td>0.584447</td>\n",
       "      <td>0.623480</td>\n",
       "      <td>0.001953</td>\n",
       "      <td>0.000119</td>\n",
       "      <td>0.004055</td>\n",
       "      <td>0.001496</td>\n",
       "    </tr>\n",
       "    <tr>\n",
       "      <th>1</th>\n",
       "      <td>0.156121</td>\n",
       "      <td>0.003771</td>\n",
       "      <td>0.588888</td>\n",
       "      <td>0.613996</td>\n",
       "      <td>150</td>\n",
       "      <td>{'min_samples_leaf': 150}</td>\n",
       "      <td>1</td>\n",
       "      <td>0.594863</td>\n",
       "      <td>0.612572</td>\n",
       "      <td>0.584247</td>\n",
       "      <td>...</td>\n",
       "      <td>0.593354</td>\n",
       "      <td>0.610464</td>\n",
       "      <td>0.579651</td>\n",
       "      <td>0.616801</td>\n",
       "      <td>0.592326</td>\n",
       "      <td>0.617315</td>\n",
       "      <td>0.006868</td>\n",
       "      <td>0.000189</td>\n",
       "      <td>0.005905</td>\n",
       "      <td>0.002636</td>\n",
       "    </tr>\n",
       "    <tr>\n",
       "      <th>2</th>\n",
       "      <td>0.141985</td>\n",
       "      <td>0.003709</td>\n",
       "      <td>0.580256</td>\n",
       "      <td>0.608635</td>\n",
       "      <td>200</td>\n",
       "      <td>{'min_samples_leaf': 200}</td>\n",
       "      <td>5</td>\n",
       "      <td>0.579452</td>\n",
       "      <td>0.611287</td>\n",
       "      <td>0.574315</td>\n",
       "      <td>...</td>\n",
       "      <td>0.582049</td>\n",
       "      <td>0.605069</td>\n",
       "      <td>0.581021</td>\n",
       "      <td>0.609608</td>\n",
       "      <td>0.584447</td>\n",
       "      <td>0.606439</td>\n",
       "      <td>0.004264</td>\n",
       "      <td>0.000217</td>\n",
       "      <td>0.003385</td>\n",
       "      <td>0.002453</td>\n",
       "    </tr>\n",
       "    <tr>\n",
       "      <th>3</th>\n",
       "      <td>0.137067</td>\n",
       "      <td>0.003907</td>\n",
       "      <td>0.583134</td>\n",
       "      <td>0.600140</td>\n",
       "      <td>250</td>\n",
       "      <td>{'min_samples_leaf': 250}</td>\n",
       "      <td>3</td>\n",
       "      <td>0.585616</td>\n",
       "      <td>0.599983</td>\n",
       "      <td>0.580822</td>\n",
       "      <td>...</td>\n",
       "      <td>0.584789</td>\n",
       "      <td>0.600017</td>\n",
       "      <td>0.577252</td>\n",
       "      <td>0.602929</td>\n",
       "      <td>0.587187</td>\n",
       "      <td>0.600531</td>\n",
       "      <td>0.004647</td>\n",
       "      <td>0.000581</td>\n",
       "      <td>0.003613</td>\n",
       "      <td>0.001809</td>\n",
       "    </tr>\n",
       "    <tr>\n",
       "      <th>4</th>\n",
       "      <td>0.127006</td>\n",
       "      <td>0.003397</td>\n",
       "      <td>0.578064</td>\n",
       "      <td>0.599541</td>\n",
       "      <td>300</td>\n",
       "      <td>{'min_samples_leaf': 300}</td>\n",
       "      <td>6</td>\n",
       "      <td>0.579452</td>\n",
       "      <td>0.598270</td>\n",
       "      <td>0.574315</td>\n",
       "      <td>...</td>\n",
       "      <td>0.578965</td>\n",
       "      <td>0.598990</td>\n",
       "      <td>0.573827</td>\n",
       "      <td>0.601987</td>\n",
       "      <td>0.583762</td>\n",
       "      <td>0.599760</td>\n",
       "      <td>0.002359</td>\n",
       "      <td>0.000166</td>\n",
       "      <td>0.003666</td>\n",
       "      <td>0.001316</td>\n",
       "    </tr>\n",
       "  </tbody>\n",
       "</table>\n",
       "<p>5 rows × 21 columns</p>\n",
       "</div>"
      ],
      "text/plain": [
       "   mean_fit_time  mean_score_time  mean_test_score  mean_train_score  \\\n",
       "0       0.168370         0.003661         0.584778          0.623227   \n",
       "1       0.156121         0.003771         0.588888          0.613996   \n",
       "2       0.141985         0.003709         0.580256          0.608635   \n",
       "3       0.137067         0.003907         0.583134          0.600140   \n",
       "4       0.127006         0.003397         0.578064          0.599541   \n",
       "\n",
       "  param_min_samples_leaf                     params  rank_test_score  \\\n",
       "0                    100  {'min_samples_leaf': 100}                2   \n",
       "1                    150  {'min_samples_leaf': 150}                1   \n",
       "2                    200  {'min_samples_leaf': 200}                5   \n",
       "3                    250  {'min_samples_leaf': 250}                3   \n",
       "4                    300  {'min_samples_leaf': 300}                6   \n",
       "\n",
       "   split0_test_score  split0_train_score  split1_test_score       ...         \\\n",
       "0           0.586986            0.623105           0.584247       ...          \n",
       "1           0.594863            0.612572           0.584247       ...          \n",
       "2           0.579452            0.611287           0.574315       ...          \n",
       "3           0.585616            0.599983           0.580822       ...          \n",
       "4           0.579452            0.598270           0.574315       ...          \n",
       "\n",
       "   split2_test_score  split2_train_score  split3_test_score  \\\n",
       "0           0.590271            0.620483           0.577938   \n",
       "1           0.593354            0.610464           0.579651   \n",
       "2           0.582049            0.605069           0.581021   \n",
       "3           0.584789            0.600017           0.577252   \n",
       "4           0.578965            0.598990           0.573827   \n",
       "\n",
       "   split3_train_score  split4_test_score  split4_train_score  std_fit_time  \\\n",
       "0            0.624251           0.584447            0.623480      0.001953   \n",
       "1            0.616801           0.592326            0.617315      0.006868   \n",
       "2            0.609608           0.584447            0.606439      0.004264   \n",
       "3            0.602929           0.587187            0.600531      0.004647   \n",
       "4            0.601987           0.583762            0.599760      0.002359   \n",
       "\n",
       "   std_score_time  std_test_score  std_train_score  \n",
       "0        0.000119        0.004055         0.001496  \n",
       "1        0.000189        0.005905         0.002636  \n",
       "2        0.000217        0.003385         0.002453  \n",
       "3        0.000581        0.003613         0.001809  \n",
       "4        0.000166        0.003666         0.001316  \n",
       "\n",
       "[5 rows x 21 columns]"
      ]
     },
     "execution_count": 28,
     "metadata": {},
     "output_type": "execute_result"
    }
   ],
   "source": [
    "# scores of GridSearch CV\n",
    "scores = rf.cv_results_\n",
    "pd.DataFrame(scores).head()"
   ]
  },
  {
   "cell_type": "code",
   "execution_count": 29,
   "metadata": {},
   "outputs": [
    {
     "data": {
      "image/png": "[encoded data removed]",
      "text/plain": [
       "<matplotlib.figure.Figure at 0x1a16d467b8>"
      ]
     },
     "metadata": {},
     "output_type": "display_data"
    }
   ],
   "source": [
    "# plotting accuracies with min_samples_leaf\n",
    "plt.figure()\n",
    "plt.plot(scores[\"param_min_samples_leaf\"], \n",
    "         scores[\"mean_train_score\"], \n",
    "         label=\"training accuracy\")\n",
    "plt.plot(scores[\"param_min_samples_leaf\"], \n",
    "         scores[\"mean_test_score\"], \n",
    "         label=\"test accuracy\")\n",
    "plt.xlabel(\"min_samples_leaf\")\n",
    "plt.ylabel(\"Accuracy\")\n",
    "plt.legend()\n",
    "plt.show()"
   ]
  },
  {
   "cell_type": "code",
   "execution_count": null,
   "metadata": {},
   "outputs": [],
   "source": [
    "#You can see that the model starts of overfit as you decrease the value of min_samples_leaf."
   ]
  },
  {
   "cell_type": "code",
   "execution_count": null,
   "metadata": {},
   "outputs": [],
   "source": [
    "# Grid Search to Find Optimal Hyperparameters\n",
    "#We can now find the optimal hyperparameters using GridSearchCV."
   ]
  },
  {
   "cell_type": "code",
   "execution_count": 30,
   "metadata": {},
   "outputs": [],
   "source": [
    "# Create the parameter grid based on the results of random search \n",
    "param_grid = {\n",
    "    'max_depth': [4,8,10],\n",
    "    'min_samples_leaf': range(100, 400, 200),\n",
    "    'min_samples_split': range(200, 500, 200),\n",
    "    'n_estimators': [100,200, 300], \n",
    "    'max_features': [5, 10]\n",
    "}\n",
    "# Create a based model\n",
    "rf = RandomForestClassifier()\n",
    "# Instantiate the grid search model\n",
    "grid_search = GridSearchCV(estimator = rf, param_grid = param_grid, \n",
    "                          cv = 3, n_jobs = -1,verbose = 1)"
   ]
  },
  {
   "cell_type": "code",
   "execution_count": 31,
   "metadata": {},
   "outputs": [
    {
     "name": "stdout",
     "output_type": "stream",
     "text": [
      "Fitting 3 folds for each of 72 candidates, totalling 216 fits\n"
     ]
    },
    {
     "name": "stderr",
     "output_type": "stream",
     "text": [
      "[Parallel(n_jobs=-1)]: Done  34 tasks      | elapsed:   21.6s\n",
      "[Parallel(n_jobs=-1)]: Done 184 tasks      | elapsed:  3.1min\n",
      "[Parallel(n_jobs=-1)]: Done 216 out of 216 | elapsed:  3.8min finished\n"
     ]
    },
    {
     "data": {
      "text/plain": [
       "GridSearchCV(cv=3, error_score='raise',\n",
       "       estimator=RandomForestClassifier(bootstrap=True, class_weight=None, criterion='gini',\n",
       "            max_depth=None, max_features='auto', max_leaf_nodes=None,\n",
       "            min_impurity_decrease=0.0, min_impurity_split=None,\n",
       "            min_samples_leaf=1, min_samples_split=2,\n",
       "            min_weight_fraction_leaf=0.0, n_estimators=10, n_jobs=1,\n",
       "            oob_score=False, random_state=None, verbose=0,\n",
       "            warm_start=False),\n",
       "       fit_params=None, iid=True, n_jobs=-1,\n",
       "       param_grid={'max_depth': [4, 8, 10], 'min_samples_leaf': range(100, 400, 200), 'min_samples_split': range(200, 500, 200), 'n_estimators': [100, 200, 300], 'max_features': [5, 10]},\n",
       "       pre_dispatch='2*n_jobs', refit=True, return_train_score='warn',\n",
       "       scoring=None, verbose=1)"
      ]
     },
     "execution_count": 31,
     "metadata": {},
     "output_type": "execute_result"
    }
   ],
   "source": [
    "# Fit the grid search to the data\n",
    "grid_search.fit(x_train_pca, y_train)"
   ]
  },
  {
   "cell_type": "code",
   "execution_count": 32,
   "metadata": {},
   "outputs": [
    {
     "name": "stdout",
     "output_type": "stream",
     "text": [
      "We can get accuracy of 0.5901212577926971 using {'max_depth': 10, 'max_features': 10, 'min_samples_leaf': 100, 'min_samples_split': 200, 'n_estimators': 200}\n"
     ]
    }
   ],
   "source": [
    "# printing the optimal accuracy score and hyperparameters\n",
    "print('We can get accuracy of',grid_search.best_score_,'using',grid_search.best_params_)"
   ]
  },
  {
   "cell_type": "code",
   "execution_count": null,
   "metadata": {},
   "outputs": [],
   "source": [
    "#Fitting the final model with the best parameters obtained from grid search."
   ]
  },
  {
   "cell_type": "code",
   "execution_count": 33,
   "metadata": {},
   "outputs": [],
   "source": [
    "# model with the best hyperparameters\n",
    "from sklearn.ensemble import RandomForestClassifier\n",
    "rfc = RandomForestClassifier(bootstrap=True,\n",
    "                             max_depth=10,\n",
    "                             min_samples_leaf=100, \n",
    "                             min_samples_split=200,\n",
    "                             max_features=10,\n",
    "                             n_estimators=200)"
   ]
  },
  {
   "cell_type": "code",
   "execution_count": 34,
   "metadata": {},
   "outputs": [
    {
     "data": {
      "text/plain": [
       "RandomForestClassifier(bootstrap=True, class_weight=None, criterion='gini',\n",
       "            max_depth=10, max_features=10, max_leaf_nodes=None,\n",
       "            min_impurity_decrease=0.0, min_impurity_split=None,\n",
       "            min_samples_leaf=100, min_samples_split=200,\n",
       "            min_weight_fraction_leaf=0.0, n_estimators=200, n_jobs=1,\n",
       "            oob_score=False, random_state=None, verbose=0,\n",
       "            warm_start=False)"
      ]
     },
     "execution_count": 34,
     "metadata": {},
     "output_type": "execute_result"
    }
   ],
   "source": [
    "# fit\n",
    "rfc.fit(x_train_pca,y_train)"
   ]
  },
  {
   "cell_type": "code",
   "execution_count": 37,
   "metadata": {},
   "outputs": [
    {
     "name": "stdout",
     "output_type": "stream",
     "text": [
      "             precision    recall  f1-score   support\n",
      "\n",
      "          0       0.52      0.46      0.49      2630\n",
      "          1       0.64      0.70      0.67      3627\n",
      "\n",
      "avg / total       0.59      0.60      0.59      6257\n",
      "\n"
     ]
    }
   ],
   "source": [
    "# predict\n",
    "predictions = rfc.predict(x_test_pca)\n",
    "# evaluation metrics\n",
    "from sklearn.metrics import classification_report,confusion_matrix\n",
    "print(classification_report(y_test,predictions))"
   ]
  },
  {
   "cell_type": "code",
   "execution_count": 39,
   "metadata": {},
   "outputs": [
    {
     "name": "stdout",
     "output_type": "stream",
     "text": [
      "[[1204 1426]\n",
      " [1090 2537]]\n"
     ]
    }
   ],
   "source": [
    "print(confusion_matrix(y_test,predictions))"
   ]
  },
  {
   "cell_type": "code",
   "execution_count": null,
   "metadata": {},
   "outputs": [],
   "source": [
    "# As we seen above we have acheived 59% of accuracy after tuning the hyperparameters. "
   ]
  }
 ],
 "metadata": {
  "kernelspec": {
   "display_name": "Python 3",
   "language": "python",
   "name": "python3"
  },
  "language_info": {
   "codemirror_mode": {
    "name": "ipython",
    "version": 3
   },
   "file_extension": ".py",
   "mimetype": "text/x-python",
   "name": "python",
   "nbconvert_exporter": "python",
   "pygments_lexer": "ipython3",
   "version": "3.6.4"
  }
 },
 "nbformat": 4,
 "nbformat_minor": 2
}
