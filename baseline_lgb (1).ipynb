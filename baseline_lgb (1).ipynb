{
 "cells": [
  {
   "cell_type": "code",
   "execution_count": 25,
   "metadata": {},
   "outputs": [],
   "source": [
    "import pandas as pd\n",
    "import numpy as np\n",
    "\n",
    "import lightgbm as lgb\n",
    "conda install -c conda-forge lightgbm\n",
    "from sklearn.model_selection import train_test_split\n",
    "from sklearn.metrics import accuracy_score, confusion_matrix"
   ]
  },
  {
   "cell_type": "code",
   "execution_count": 3,
   "metadata": {},
   "outputs": [],
   "source": [
    "data = pd.read_csv(\"data.csv\",\n",
    "                  names = ['a1', 'a2', 'a3', 'a4', 'a5', 'a6', 'a7', 'a8','a9', 'a10', 'a11', \n",
    "                           'a12', 'a13', 'a14', 'a15', 'a16','a17', 'a18', 'a19', 'a20', 'a21', \n",
    "                           'a22', 'a23', 'a24', 'a25', 'a26','a27', 'a28', 'a29', 'a30','a31', \n",
    "                           'a32', 'a33', 'a34', 'a35', 'a36','a37', 'a38', 'a39', 'a40','a41','a42'])"
   ]
  },
  {
   "cell_type": "code",
   "execution_count": 4,
   "metadata": {},
   "outputs": [
    {
     "data": {
      "text/html": [
       "<div>\n",
       "<style scoped>\n",
       "    .dataframe tbody tr th:only-of-type {\n",
       "        vertical-align: middle;\n",
       "    }\n",
       "\n",
       "    .dataframe tbody tr th {\n",
       "        vertical-align: top;\n",
       "    }\n",
       "\n",
       "    .dataframe thead th {\n",
       "        text-align: right;\n",
       "    }\n",
       "</style>\n",
       "<table border=\"1\" class=\"dataframe\">\n",
       "  <thead>\n",
       "    <tr style=\"text-align: right;\">\n",
       "      <th></th>\n",
       "      <th>a1</th>\n",
       "      <th>a2</th>\n",
       "      <th>a3</th>\n",
       "      <th>a4</th>\n",
       "      <th>a5</th>\n",
       "      <th>a6</th>\n",
       "      <th>a7</th>\n",
       "      <th>a8</th>\n",
       "      <th>a9</th>\n",
       "      <th>a10</th>\n",
       "      <th>...</th>\n",
       "      <th>a33</th>\n",
       "      <th>a34</th>\n",
       "      <th>a35</th>\n",
       "      <th>a36</th>\n",
       "      <th>a37</th>\n",
       "      <th>a38</th>\n",
       "      <th>a39</th>\n",
       "      <th>a40</th>\n",
       "      <th>a41</th>\n",
       "      <th>a42</th>\n",
       "    </tr>\n",
       "  </thead>\n",
       "  <tbody>\n",
       "    <tr>\n",
       "      <th>0</th>\n",
       "      <td>48.0</td>\n",
       "      <td>32.0</td>\n",
       "      <td>47.0</td>\n",
       "      <td>64.0</td>\n",
       "      <td>34.0</td>\n",
       "      <td>14.0</td>\n",
       "      <td>14.0</td>\n",
       "      <td>15.0</td>\n",
       "      <td>42</td>\n",
       "      <td>61</td>\n",
       "      <td>...</td>\n",
       "      <td>62</td>\n",
       "      <td>33</td>\n",
       "      <td>33</td>\n",
       "      <td>41</td>\n",
       "      <td>11</td>\n",
       "      <td>13</td>\n",
       "      <td>14</td>\n",
       "      <td>7</td>\n",
       "      <td>6</td>\n",
       "      <td>0</td>\n",
       "    </tr>\n",
       "    <tr>\n",
       "      <th>1</th>\n",
       "      <td>34.0</td>\n",
       "      <td>21.0</td>\n",
       "      <td>82.0</td>\n",
       "      <td>48.0</td>\n",
       "      <td>29.0</td>\n",
       "      <td>11.0</td>\n",
       "      <td>14.0</td>\n",
       "      <td>14.0</td>\n",
       "      <td>34</td>\n",
       "      <td>31</td>\n",
       "      <td>...</td>\n",
       "      <td>48</td>\n",
       "      <td>61</td>\n",
       "      <td>63</td>\n",
       "      <td>58</td>\n",
       "      <td>7</td>\n",
       "      <td>5</td>\n",
       "      <td>14</td>\n",
       "      <td>13</td>\n",
       "      <td>12</td>\n",
       "      <td>1</td>\n",
       "    </tr>\n",
       "    <tr>\n",
       "      <th>2</th>\n",
       "      <td>45.0</td>\n",
       "      <td>34.0</td>\n",
       "      <td>54.0</td>\n",
       "      <td>65.0</td>\n",
       "      <td>43.0</td>\n",
       "      <td>13.0</td>\n",
       "      <td>11.0</td>\n",
       "      <td>9.0</td>\n",
       "      <td>42</td>\n",
       "      <td>61</td>\n",
       "      <td>...</td>\n",
       "      <td>62</td>\n",
       "      <td>33</td>\n",
       "      <td>33</td>\n",
       "      <td>41</td>\n",
       "      <td>11</td>\n",
       "      <td>13</td>\n",
       "      <td>14</td>\n",
       "      <td>7</td>\n",
       "      <td>6</td>\n",
       "      <td>0</td>\n",
       "    </tr>\n",
       "    <tr>\n",
       "      <th>3</th>\n",
       "      <td>69.0</td>\n",
       "      <td>57.0</td>\n",
       "      <td>47.0</td>\n",
       "      <td>85.0</td>\n",
       "      <td>47.0</td>\n",
       "      <td>6.0</td>\n",
       "      <td>11.0</td>\n",
       "      <td>10.0</td>\n",
       "      <td>37</td>\n",
       "      <td>32</td>\n",
       "      <td>...</td>\n",
       "      <td>61</td>\n",
       "      <td>62</td>\n",
       "      <td>64</td>\n",
       "      <td>60</td>\n",
       "      <td>8</td>\n",
       "      <td>6</td>\n",
       "      <td>15</td>\n",
       "      <td>14</td>\n",
       "      <td>13</td>\n",
       "      <td>1</td>\n",
       "    </tr>\n",
       "    <tr>\n",
       "      <th>4</th>\n",
       "      <td>36.0</td>\n",
       "      <td>30.0</td>\n",
       "      <td>50.0</td>\n",
       "      <td>59.0</td>\n",
       "      <td>35.0</td>\n",
       "      <td>6.0</td>\n",
       "      <td>13.0</td>\n",
       "      <td>13.0</td>\n",
       "      <td>37</td>\n",
       "      <td>32</td>\n",
       "      <td>...</td>\n",
       "      <td>61</td>\n",
       "      <td>62</td>\n",
       "      <td>64</td>\n",
       "      <td>60</td>\n",
       "      <td>8</td>\n",
       "      <td>6</td>\n",
       "      <td>15</td>\n",
       "      <td>14</td>\n",
       "      <td>13</td>\n",
       "      <td>1</td>\n",
       "    </tr>\n",
       "  </tbody>\n",
       "</table>\n",
       "<p>5 rows × 42 columns</p>\n",
       "</div>"
      ],
      "text/plain": [
       "     a1    a2    a3    a4    a5    a6    a7    a8  a9  a10 ...   a33  a34  \\\n",
       "0  48.0  32.0  47.0  64.0  34.0  14.0  14.0  15.0  42   61 ...    62   33   \n",
       "1  34.0  21.0  82.0  48.0  29.0  11.0  14.0  14.0  34   31 ...    48   61   \n",
       "2  45.0  34.0  54.0  65.0  43.0  13.0  11.0   9.0  42   61 ...    62   33   \n",
       "3  69.0  57.0  47.0  85.0  47.0   6.0  11.0  10.0  37   32 ...    61   62   \n",
       "4  36.0  30.0  50.0  59.0  35.0   6.0  13.0  13.0  37   32 ...    61   62   \n",
       "\n",
       "   a35  a36  a37  a38  a39  a40  a41  a42  \n",
       "0   33   41   11   13   14    7    6    0  \n",
       "1   63   58    7    5   14   13   12    1  \n",
       "2   33   41   11   13   14    7    6    0  \n",
       "3   64   60    8    6   15   14   13    1  \n",
       "4   64   60    8    6   15   14   13    1  \n",
       "\n",
       "[5 rows x 42 columns]"
      ]
     },
     "execution_count": 4,
     "metadata": {},
     "output_type": "execute_result"
    }
   ],
   "source": [
    "data.head()"
   ]
  },
  {
   "cell_type": "code",
   "execution_count": 5,
   "metadata": {},
   "outputs": [],
   "source": [
    "cols_for_model = np.setdiff1d(data.columns, [\"a42\"])\n",
    "target = \"a42\""
   ]
  },
  {
   "cell_type": "code",
   "execution_count": 6,
   "metadata": {},
   "outputs": [],
   "source": [
    "train_d = lgb.Dataset(data[cols_for_model], data[target])"
   ]
  },
  {
   "cell_type": "code",
   "execution_count": 8,
   "metadata": {},
   "outputs": [],
   "source": [
    "params = {\n",
    "    'task': 'train',\n",
    "    'boosting_type': 'gbdt',\n",
    "    'objective': 'binary',\n",
    "    'metric': 'binary_error',\n",
    "    'num_leaves': 50,\n",
    "    'learning_rate': 0.01,\n",
    "    'feature_fraction': 0.9,\n",
    "    'bagging_fraction': 0.8,\n",
    "    'bagging_freq': 5,\n",
    "    'min_data_in_leaf': 20,\n",
    "    'num_threads': 4,\n",
    "    'seed': 2017,\n",
    "    'bagging_seed': 2,\n",
    "    'feature_fraction_seed': 256\n",
    "}"
   ]
  },
  {
   "cell_type": "code",
   "execution_count": 11,
   "metadata": {},
   "outputs": [
    {
     "name": "stdout",
     "output_type": "stream",
     "text": [
      "[10]\tcv_agg's binary_error: 0.430229 + 1.63888e-05\n",
      "[20]\tcv_agg's binary_error: 0.430181 + 0.000238243\n",
      "[30]\tcv_agg's binary_error: 0.429894 + 0.000380747\n",
      "[40]\tcv_agg's binary_error: 0.428983 + 0.000671612\n",
      "[50]\tcv_agg's binary_error: 0.426537 + 0.00149333\n",
      "[60]\tcv_agg's binary_error: 0.424763 + 0.00145276\n",
      "[70]\tcv_agg's binary_error: 0.42107 + 0.0036306\n",
      "[80]\tcv_agg's binary_error: 0.418816 + 0.00496992\n",
      "[90]\tcv_agg's binary_error: 0.416514 + 0.00482712\n",
      "[100]\tcv_agg's binary_error: 0.413206 + 0.00522658\n",
      "[110]\tcv_agg's binary_error: 0.41287 + 0.00504478\n",
      "[120]\tcv_agg's binary_error: 0.409705 + 0.0035901\n",
      "[130]\tcv_agg's binary_error: 0.409562 + 0.00524269\n",
      "[140]\tcv_agg's binary_error: 0.408267 + 0.00456544\n",
      "[150]\tcv_agg's binary_error: 0.407596 + 0.00554945\n",
      "[160]\tcv_agg's binary_error: 0.407548 + 0.00583072\n",
      "[170]\tcv_agg's binary_error: 0.406589 + 0.00578921\n",
      "[180]\tcv_agg's binary_error: 0.407164 + 0.00501379\n",
      "[190]\tcv_agg's binary_error: 0.406637 + 0.00548133\n",
      "[200]\tcv_agg's binary_error: 0.407213 + 0.00592242\n",
      "[210]\tcv_agg's binary_error: 0.406158 + 0.00613806\n",
      "[220]\tcv_agg's binary_error: 0.405678 + 0.00510242\n",
      "[230]\tcv_agg's binary_error: 0.405485 + 0.00540892\n",
      "[240]\tcv_agg's binary_error: 0.406541 + 0.00488862\n",
      "[250]\tcv_agg's binary_error: 0.406253 + 0.00495138\n",
      "[260]\tcv_agg's binary_error: 0.406253 + 0.00472394\n"
     ]
    }
   ],
   "source": [
    "lgb_cv_obj = lgb.cv(params, train_d, num_boost_round=1000, nfold=5, early_stopping_rounds=30, verbose_eval=10)"
   ]
  },
  {
   "cell_type": "code",
   "execution_count": 14,
   "metadata": {},
   "outputs": [],
   "source": [
    "num_rounds = len(lgb_cv_obj[\"binary_error-mean\"])"
   ]
  },
  {
   "cell_type": "code",
   "execution_count": 15,
   "metadata": {},
   "outputs": [],
   "source": [
    "# Splitting the data into train and test\n",
    "X_train, X_test, y_train, y_test = train_test_split(data[cols_for_model], data[target], \n",
    "                                                    test_size=0.30, \n",
    "                                                    random_state = 2018)"
   ]
  },
  {
   "cell_type": "code",
   "execution_count": 17,
   "metadata": {},
   "outputs": [],
   "source": [
    "cls_train_obj = lgb.Dataset(X_train, y_train)\n",
    "validation_set = lgb.Dataset(X_test, y_test)"
   ]
  },
  {
   "cell_type": "code",
   "execution_count": 18,
   "metadata": {
    "scrolled": true
   },
   "outputs": [
    {
     "name": "stdout",
     "output_type": "stream",
     "text": [
      "Training until validation scores don't improve for 30 rounds.\n",
      "[10]\tvalid_0's binary_error: 0.420329\n",
      "[20]\tvalid_0's binary_error: 0.420329\n",
      "[30]\tvalid_0's binary_error: 0.420169\n",
      "[40]\tvalid_0's binary_error: 0.418571\n",
      "[50]\tvalid_0's binary_error: 0.417932\n",
      "[60]\tvalid_0's binary_error: 0.417612\n",
      "[70]\tvalid_0's binary_error: 0.413777\n",
      "[80]\tvalid_0's binary_error: 0.411379\n",
      "[90]\tvalid_0's binary_error: 0.41042\n",
      "[100]\tvalid_0's binary_error: 0.412977\n",
      "[110]\tvalid_0's binary_error: 0.409621\n",
      "[120]\tvalid_0's binary_error: 0.409781\n",
      "[130]\tvalid_0's binary_error: 0.404667\n",
      "[140]\tvalid_0's binary_error: 0.405626\n",
      "[150]\tvalid_0's binary_error: 0.405306\n",
      "[160]\tvalid_0's binary_error: 0.405786\n",
      "Early stopping, best iteration is:\n",
      "[130]\tvalid_0's binary_error: 0.404667\n"
     ]
    }
   ],
   "source": [
    "lgb_train_obj = lgb.train(params, cls_train_obj, num_boost_round=num_rounds, early_stopping_rounds=30, valid_sets=validation_set,\n",
    "                          verbose_eval=10)                         "
   ]
  },
  {
   "cell_type": "code",
   "execution_count": 20,
   "metadata": {},
   "outputs": [],
   "source": [
    "preds = lgb_train_obj.predict(X_test)"
   ]
  },
  {
   "cell_type": "code",
   "execution_count": 22,
   "metadata": {},
   "outputs": [],
   "source": [
    "preds = np.where(preds>0.5, 1, 0)"
   ]
  },
  {
   "cell_type": "code",
   "execution_count": 24,
   "metadata": {},
   "outputs": [
    {
     "data": {
      "text/plain": [
       "0.5953332267859996"
      ]
     },
     "execution_count": 24,
     "metadata": {},
     "output_type": "execute_result"
    }
   ],
   "source": [
    "accuracy_score(y_test, preds)"
   ]
  },
  {
   "cell_type": "code",
   "execution_count": 30,
   "metadata": {},
   "outputs": [],
   "source": [
    "confusion_matrix(y_test, preds)"
   ]
  },
  {
   "cell_type": "code",
   "execution_count": null,
   "metadata": {},
   "outputs": [],
   "source": []
  }
 ],
 "metadata": {
  "kernelspec": {
   "display_name": "Python 3",
   "language": "python",
   "name": "python3"
  },
  "language_info": {
   "codemirror_mode": {
    "name": "ipython",
    "version": 3
   },
   "file_extension": ".py",
   "mimetype": "text/x-python",
   "name": "python",
   "nbconvert_exporter": "python",
   "pygments_lexer": "ipython3",
   "version": "3.6.4"
  }
 },
 "nbformat": 4,
 "nbformat_minor": 2
}
